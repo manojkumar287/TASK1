{
 "cells": [
  {
   "cell_type": "markdown",
   "id": "5ac0391c",
   "metadata": {},
   "source": [
    "# Data Cleaning and Preprocessing for `car_prices.csv`"
   ]
  },
  {
   "cell_type": "code",
   "execution_count": null,
   "id": "3e325cba",
   "metadata": {},
   "outputs": [],
   "source": [
    "import pandas as pd\n",
    "\n",
    "# Load the dataset\n",
    "df = pd.read_csv('car_prices.csv')\n",
    "\n",
    "# Fill missing categorical values with 'unknown'\n",
    "fill_unknown = ['make', 'model', 'trim', 'body', 'transmission', 'color', 'interior', 'seller']\n",
    "df[fill_unknown] = df[fill_unknown].fillna('unknown')\n",
    "\n",
    "# Fill numerical columns with median\n",
    "df['condition'] = df['condition'].fillna(df['condition'].median())\n",
    "df['odometer'] = df['odometer'].fillna(df['odometer'].median())\n",
    "df['mmr'] = df['mmr'].fillna(df['mmr'].median())\n",
    "df['sellingprice'] = df['sellingprice'].fillna(df['sellingprice'].median())\n",
    "\n",
    "# Fill small gaps with mode\n",
    "df['state'] = df['state'].fillna(df['state'].mode()[0])\n",
    "\n",
    "# Convert 'saledate' to datetime\n",
    "df['saledate'] = pd.to_datetime(df['saledate'], errors='coerce')\n",
    "df['saledate'] = df['saledate'].fillna(method='ffill')\n",
    "\n",
    "# Drop any remaining nulls just to be safe\n",
    "df.dropna(inplace=True)\n",
    "\n",
    "# Remove duplicate rows\n",
    "df.drop_duplicates(inplace=True)\n",
    "\n",
    "# Standardize text: lowercase, no spaces\n",
    "text_columns = ['make', 'model', 'trim', 'body', 'transmission', 'color', 'interior']\n",
    "for col in text_columns:\n",
    "    df[col] = df[col].str.lower().str.strip()\n",
    "\n",
    "# Rename columns to snake_case\n",
    "df.columns = df.columns.str.lower().str.replace(' ', '_')\n",
    "\n",
    "# Save cleaned data\n",
    "df.to_csv('car_prices_cleaned.csv', index=False)\n",
    "\n",
    "# Final check\n",
    "print(\"Cleaning complete. Missing values summary:\\n\")\n",
    "print(df.isnull().sum())"
   ]
  }
 ],
 "metadata": {},
 "nbformat": 4,
 "nbformat_minor": 5
}
